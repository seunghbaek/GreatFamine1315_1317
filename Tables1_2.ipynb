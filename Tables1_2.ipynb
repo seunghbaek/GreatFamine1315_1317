{
 "cells": [
  {
   "cell_type": "code",
   "execution_count": 2,
   "metadata": {},
   "outputs": [
    {
     "data": {
      "text/plain": [
       "'/System/Library/Fonts/LucidaGrande.ttc'"
      ]
     },
     "execution_count": 2,
     "metadata": {},
     "output_type": "execute_result"
    }
   ],
   "source": [
    "from netCDF4 import Dataset as NetCDFFile\n",
    "import numpy as np\n",
    "from numpy import matlib\n",
    "import matplotlib.pyplot as plt\n",
    "%matplotlib inline\n",
    "from mpl_toolkits.basemap import Basemap\n",
    "from matplotlib import colors\n",
    "import xarray as xr\n",
    "from numpy import meshgrid\n",
    "from matplotlib.backends.backend_pdf import PdfPages\n",
    "from matplotlib.font_manager import findfont, FontProperties\n",
    "import pandas as pd\n",
    "import warnings\n",
    "warnings.filterwarnings(\"ignore\")\n",
    "font = findfont(FontProperties(family=['sans-serif']))\n",
    "font"
   ]
  },
  {
   "cell_type": "markdown",
   "metadata": {},
   "source": [
    "## Ranking by Country"
   ]
  },
  {
   "cell_type": "code",
   "execution_count": 3,
   "metadata": {},
   "outputs": [],
   "source": [
    "owda = xr.open_dataset('owda_hd_fix_500.nc').pdsi\n",
    "import reverse_geocode\n",
    "#Country Masks\n",
    "UK_mask = np.zeros((114,88));France_mask = np.zeros((114,88));Germany_mask = np.zeros((114,88));\n",
    "Switzerland_mask = np.zeros((114,88));Austria_mask = np.zeros((114,88));Belgium_mask = np.zeros((114,88));\n",
    "Netherlands_mask = np.zeros((114,88));Luxembourg_mask = np.zeros((114,88));Italy_mask = np.zeros((114,88));\n",
    "Europe_mask = np.zeros((114,88)); Europe_mask[:,:] = np.nan\n",
    "\n",
    "for x in range(0,114):\n",
    "    for y in range(0,88):\n",
    "        coordinates = (owda.lat[y], owda.lon[x]), \n",
    "        if 'United Kingdom' in str(reverse_geocode.search(coordinates)):\n",
    "            UK_mask[x,y] = 1\n",
    "            Europe_mask[x,y] = 1\n",
    "        else:\n",
    "            UK_mask[x,y] = np.nan\n",
    "            \n",
    "        if 'France' in str(reverse_geocode.search(coordinates)):\n",
    "            France_mask[x,y] = 1\n",
    "            Europe_mask[x,y] = 1\n",
    "        else:\n",
    "            France_mask[x,y] = np.nan\n",
    "\n",
    "        if 'Germany' in str(reverse_geocode.search(coordinates)):\n",
    "            Germany_mask[x,y] = 1\n",
    "            Europe_mask[x,y] = 1\n",
    "        else:\n",
    "            Germany_mask[x,y] = np.nan\n",
    "\n",
    "        if 'Switzerland' in str(reverse_geocode.search(coordinates)):\n",
    "            Switzerland_mask[x,y] = 1\n",
    "        else:\n",
    "            Switzerland_mask[x,y] = np.nan\n",
    "\n",
    "        if 'Austria' in str(reverse_geocode.search(coordinates)):\n",
    "            Austria_mask[x,y] = 1\n",
    "            Europe_mask[x,y] = 1\n",
    "        else:\n",
    "            Austria_mask[x,y] = np.nan\n",
    "\n",
    "        if 'Belgium' in str(reverse_geocode.search(coordinates)):\n",
    "            Belgium_mask[x,y] = 1\n",
    "            Europe_mask[x,y] = 1\n",
    "        else:\n",
    "            Belgium_mask[x,y] = np.nan\n",
    "            \n",
    "        if 'Netherlands' in str(reverse_geocode.search(coordinates)):\n",
    "            Netherlands_mask[x,y] = 1\n",
    "            Europe_mask[x,y] = 1\n",
    "        else:\n",
    "            Netherlands_mask[x,y] = np.nan\n",
    "\n",
    "        if 'Luxembourg' in str(reverse_geocode.search(coordinates)):\n",
    "            Luxembourg_mask[x,y] = 1\n",
    "            Europe_mask[x,y] = 1\n",
    "        else:\n",
    "            Luxembourg_mask[x,y] = np.nan\n",
    "            \n",
    "        if 'Italy' in str(reverse_geocode.search(coordinates)):\n",
    "            Italy_mask[x,y] = 1\n",
    "        else:\n",
    "            Italy_mask[x,y] = np.nan\n",
    "                        "
   ]
  },
  {
   "cell_type": "code",
   "execution_count": 4,
   "metadata": {},
   "outputs": [],
   "source": [
    "mask = {}\n",
    "mask['1'] = UK_mask\n",
    "mask['2'] = France_mask\n",
    "mask['3'] = Germany_mask\n",
    "mask['4'] = Switzerland_mask\n",
    "mask['5'] = Austria_mask\n",
    "mask['6'] = Belgium_mask\n",
    "mask['7'] = Netherlands_mask\n",
    "mask['8'] = Luxembourg_mask\n",
    "mask['9'] = Italy_mask\n",
    "mask['10'] = Europe_mask"
   ]
  },
  {
   "cell_type": "markdown",
   "metadata": {},
   "source": [
    "## Wet Rankings All Years"
   ]
  },
  {
   "cell_type": "code",
   "execution_count": 5,
   "metadata": {},
   "outputs": [
    {
     "name": "stdout",
     "output_type": "stream",
     "text": [
      "[[296]]\n",
      "[[378]]\n",
      "[[201]]\n",
      "[[189]]\n",
      "[[407]]\n",
      "[[416]]\n",
      "[[342]]\n",
      "[[336]]\n",
      "[[615]]\n",
      "[[344]]\n"
     ]
    }
   ],
   "source": [
    "#Country Ranking\n",
    "PDSIavg = {}; index = {}\n",
    "for i in range(1,11):\n",
    "    country = owda.sel(time=slice(1300,2012))*np.tile(np.expand_dims(mask[str(i)],axis=2),[1,1,713])\n",
    "    for y in range(0,88):\n",
    "        country[:,y,:] = country[:,y,:]*np.cos(np.radians(owda.lat[y]))#area-weight\n",
    "    PDSIavg[str(i)] = np.nanmean(np.nanmean(country,axis=0),axis=0)\n",
    "\n",
    "    index[str(i)] = sorted(range(len(PDSIavg[str(i)])), key=lambda k: PDSIavg[str(i)][k] ,reverse=True)#PDSIavg is NOT sorted, only the index\n",
    "    index[str(i)] = np.array(index[str(i)]) + 1300\n",
    "    print(np.array(np.where(index[str(i)]==1317))+1)#insert year here, one is added to convert index to rank\n"
   ]
  },
  {
   "cell_type": "code",
   "execution_count": 6,
   "metadata": {},
   "outputs": [
    {
     "name": "stdout",
     "output_type": "stream",
     "text": [
      "[[4]]\n",
      "[[5]]\n",
      "[[14]]\n",
      "[[6]]\n",
      "[[89]]\n",
      "[[9]]\n",
      "[[19]]\n",
      "[[7]]\n",
      "[[302]]\n",
      "[[5]]\n"
     ]
    }
   ],
   "source": [
    "#3 year ranking for 1314-1316\n",
    "PDSI3avg = {}; index3 = {};\n",
    "for i in range(1,11):\n",
    "    PDSI3avg[str(i)] = np.array(pd.DataFrame(data=PDSIavg[str(i)]).rolling(3,min_periods=3).mean())[2::]\n",
    "    index3[str(i)] = sorted(range(len(PDSI3avg[str(i)])), key=lambda k: PDSI3avg[str(i)][k] ,reverse=True)\n",
    "    index3[str(i)] = np.array(index3[str(i)]) + 1300 + 2 #two is added to account for sliding three yr window\n",
    "    print(np.array(np.where(index3[str(i)]==1316)) + 1) #one is added to convert index to rank"
   ]
  },
  {
   "cell_type": "code",
   "execution_count": 9,
   "metadata": {
    "scrolled": true
   },
   "outputs": [],
   "source": [
    "EuropePDSI = np.array(pd.DataFrame(data=PDSIavg['10']))\n",
    "EuropePDSI3 = np.array(pd.DataFrame(data=PDSIavg['10']).rolling(3,min_periods=3).mean())\n",
    "np.save('EuropePDSI',EuropePDSI)\n",
    "np.save('EuropePDSI3',EuropePDSI3)\n",
    "\n"
   ]
  },
  {
   "cell_type": "code",
   "execution_count": null,
   "metadata": {},
   "outputs": [],
   "source": []
  },
  {
   "cell_type": "markdown",
   "metadata": {},
   "source": [
    "## Wet Rank, Famine Years Only"
   ]
  },
  {
   "cell_type": "code",
   "execution_count": 30,
   "metadata": {},
   "outputs": [],
   "source": [
    "#1300 - 1710\n",
    "years = {}\n",
    "#UK\n",
    "years['1'] = np.array([1315,1316,1317,1349,1350,1351,1437,1438,1555,1556,1557,1585,1586,1587,1594,1595,1596,1597,\n",
    "                       1598,1622,1623,1698])\n",
    "#France\n",
    "years['2'] = np.array([1315,1316,1317,1347,1438,1573,1576,1585,1586,1587,1593,1598,1639,1653,1661,1676,1693,1694,\n",
    "                         1709,1710])\n",
    "#Germany\n",
    "years['3'] = np.array([1315,1316,1317,1318,1437,1438,1439,1440,1516,1517,1518,1530,1531,1569,1570,1571,1572,1573,\n",
    "                          1574,1594,1595,1596,1597,1598,1620,1621,1622,1623,1625,1626,1627,1628,1629,1630,1635,1636,\n",
    "                          1651,1652,1691,1692,1693,1694,1695,1698,1699,1700,1701,1709,1710]) \n",
    "#Switzerland\n",
    "years['4'] = np.array([1315,1316,1317,1318,1437,1438,1439,1440,1516,1517,1518,1530,1531,1569,1570,1571,1572,1573,\n",
    "                          1574,1594,1595,1596,1597,1598,1620,1621,1622,1623,1625,1626,1627,1628,1629,1630,1635,1636,\n",
    "                          1651,1652,1691,1692,1693,1694,1695,1698,1699,1700,1701,1709,1710]) \n",
    "#Austria\n",
    "years['5'] = np.array([1315,1316,1317,1318,1437,1438,1439,1440,1516,1517,1518,1530,1531,1569,1570,1571,1572,1573,\n",
    "                          1574,1594,1595,1596,1597,1598,1620,1621,1622,1623,1625,1626,1627,1628,1629,1630,1635,1636,\n",
    "                          1651,1652,1691,1692,1693,1694,1695,1698,1699,1700,1701,1709,1710]) \n",
    "#Belgium\n",
    "years['6'] = np.array([1315,1316,1317,1437,1438,1482,1483,1491,1492,1521,1522,1556,1557,1565,1566,1572,1573,1585,\n",
    "                          1586,1587,1625,1626,1648,1649,1650,1651,1652,1661,1662,1674,1675,1676,1692,1693,1694,1698,\n",
    "                          1699,1708,1709,1710])\n",
    "#Netherlands\n",
    "years['7'] = np.array([1315,1316,1317,1437,1438,1482,1483,1491,1492,1521,1522,1556,1557,1565,1566,1572,1573,1585,\n",
    "                          1586,1587,1625,1626,1648,1649,1650,1651,1652,1661,1662,1674,1675,1676,1692,1693,1694,1698,\n",
    "                          1699,1708,1709,1710])\n",
    "#Luxembourg\n",
    "years['8'] = np.array([1315,1316,1317,1437,1438,1482,1483,1491,1492,1521,1522,1556,1557,1565,1566,1572,1573,1585,\n",
    "                          1586,1587,1625,1626,1648,1649,1650,1651,1652,1661,1662,1674,1675,1676,1692,1693,1694,1698,\n",
    "                          1699,1708,1709,1710])\n",
    "#Italy\n",
    "years['9'] = np.array([1302,1303,1328,1329,1330,1339,1340,1346,1347,1374,1375,1410,1411,1412,1502,1503,1504,1505,\n",
    "                       1527,1528,1529,1530,1539,1540,1569,1570,1571,1572,1586,1587,1590,1591,1592,1593,1600,1601,\n",
    "                       1618,1619,1620,1621,1622,1628,1629,1648,1649,1678,1679,1693,1694,1695,1708,1709])\n",
    "#Europe\n",
    "years['10'] = np.array([1302,1303,1315,1316,1317,1328,1339,1340,1346,1347,1374,1375,1437,1438,1521,1522,1530,1556,\n",
    "                        1557,1569,1570,1571,1572,1573,1574,1586,1587,1590,1591,1592,1593,1594,1595,1596,1597,1598,\n",
    "                        1600,1601,1602,1603,1620,1621,1622,1623,1625,1626,1627,1628,1629,1630,1631,1647,1648,1649,\n",
    "                        1650,1651,1652,1659,1660,1661,1662,1675,1676,1678,1679,1693,1694,1695,1696,1697,1698,1699,\n",
    "                        1700,1708,1709,1710]) "
   ]
  },
  {
   "cell_type": "code",
   "execution_count": 26,
   "metadata": {},
   "outputs": [],
   "source": [
    "#1300 - 2012\n",
    "years = {}\n",
    "#UK\n",
    "years['1'] = np.array([1315,1316,1317,1349,1350,1351,1437,1438,1555,1556,1557,1585,1586,1587,1594,1595,1596,1597,\n",
    "                       1598,1622,1623,1698,1727,1728,1729,1730,1741,1742])\n",
    "#France\n",
    "years['2'] = np.array([1315,1316,1317,1347,1438,1573,1576,1585,1586,1587,1593,1598,1639,1653,1661,1676,1693,1694,\n",
    "                         1709,1710,1719,1747,1788,1789])\n",
    "#Germany\n",
    "years['3'] = np.array([1315,1316,1317,1318,1437,1438,1439,1440,1516,1517,1518,1530,1531,1569,1570,1571,1572,1573,\n",
    "                        1574,1594,1595,1596,1597,1598,1620,1621,1622,1623,1625,1626,1627,1628,1629,1630,1635,1636,\n",
    "                        1651,1652,1691,1692,1693,1694,1695,1698,1699,1700,1701,1709,1710,1711,1712,1724,1725,1739,\n",
    "                        1740,1741,1755,1756,1757,1758,1770,1771,1772,1787,1788,1789,1790,1793,1794,1795,1805,1815,\n",
    "                        1816,1817,1845,1846,1847,1848,1916,1917,1918,1945,1946]) \n",
    "#Switzerland\n",
    "years['4'] = np.array([1315,1316,1317,1318,1437,1438,1439,1440,1516,1517,1518,1530,1531,1569,1570,1571,1572,1573,\n",
    "                          1574,1594,1595,1596,1597,1598,1620,1621,1622,1623,1625,1626,1627,1628,1629,1630,1635,1636,\n",
    "                          1651,1652,1691,1692,1693,1694,1695,1698,1699,1700,1701,1709,1710,1711,1712,1724,1725,1739,\n",
    "                        1740,1741,1755,1756,1757,1758,1770,1771,1772,1787,1788,1789,1790,1793,1794,1795,1805,1815,\n",
    "                        1816,1817,1845,1846,1847,1848,1916,1917,1918,1945,1946]) \n",
    "#Austria\n",
    "years['5'] = np.array([1315,1316,1317,1318,1437,1438,1439,1440,1516,1517,1518,1530,1531,1569,1570,1571,1572,1573,\n",
    "                          1574,1594,1595,1596,1597,1598,1620,1621,1622,1623,1625,1626,1627,1628,1629,1630,1635,1636,\n",
    "                          1651,1652,1691,1692,1693,1694,1695,1698,1699,1700,1701,1709,1710,1711,1712,1724,1725,1739,\n",
    "                        1740,1741,1755,1756,1757,1758,1770,1771,1772,1787,1788,1789,1790,1793,1794,1795,1805,1815,\n",
    "                        1816,1817,1845,1846,1847,1848,1916,1917,1918,1945,1946]) \n",
    "#Belgium\n",
    "years['6'] = np.array([1315,1316,1317,1437,1438,1482,1483,1491,1492,1521,1522,1556,1557,1565,1566,1572,1573,1585,\n",
    "                        1586,1587,1625,1626,1648,1649,1650,1651,1652,1661,1662,1674,1675,1676,1692,1693,1694,1698,\n",
    "                        1699,1708,1709,1710,1740,1741,1794,1795,1816,1817,1845,1846,1847,1848,1849,1850,1916,1917,\n",
    "                        1918,1944,1945])\n",
    "#Netherlands\n",
    "years['7'] = np.array([1315,1316,1317,1437,1438,1482,1483,1491,1492,1521,1522,1556,1557,1565,1566,1572,1573,1585,\n",
    "                        1586,1587,1625,1626,1648,1649,1650,1651,1652,1661,1662,1674,1675,1676,1692,1693,1694,1698,\n",
    "                        1699,1708,1709,1710,1740,1741,1794,1795,1816,1817,1845,1846,1847,1848,1849,1850,1916,1917,\n",
    "                        1918,1944,1945])\n",
    "#Luxembourg\n",
    "years['8'] = np.array([1315,1316,1317,1437,1438,1482,1483,1491,1492,1521,1522,1556,1557,1565,1566,1572,1573,1585,\n",
    "                        1586,1587,1625,1626,1648,1649,1650,1651,1652,1661,1662,1674,1675,1676,1692,1693,1694,1698,\n",
    "                        1699,1708,1709,1710,1740,1741,1794,1795,1816,1817,1845,1846,1847,1848,1849,1850,1916,1917,\n",
    "                        1918,1944,1945])\n",
    "#Italy\n",
    "years['9'] = np.array([1302,1303,1328,1329,1330,1339,1340,1346,1347,1374,1375,1410,1411,1412,1502,1503,1504,1505,\n",
    "                       1527,1528,1529,1530,1539,1540,1569,1570,1571,1572,1586,1587,1590,1591,1592,1593,1600,1601,\n",
    "                       1618,1619,1620,1621,1622,1628,1629,1648,1649,1678,1679,1693,1694,1695,1708,1709,1743,1744,\n",
    "                       1745,1764,1765,1766,1767,1817])\n",
    "#Europe\n",
    "years['10'] = np.array([1302,1303,1315,1316,1317,1328,1339,1340,1346,1347,1374,1375,1437,1438,1521,1522,1530,1556,\n",
    "                        1557,1569,1570,1571,1572,1573,1574,1586,1587,1590,1591,1592,1593,1594,1595,1596,1597,1598,\n",
    "                        1600,1601,1602,1603,1620,1621,1622,1623,1625,1626,1627,1628,1629,1630,1631,1647,1648,1649,\n",
    "                        1650,1651,1652,1659,1660,1661,1662,1675,1676,1678,1679,1693,1694,1695,1696,1697,1698,1699,\n",
    "                        1700,1708,1709,1710,1719,1727,1728,1729,1730,1740,1741,1742,1743,1763,1764,1765,1771,1772,\n",
    "                        1787,1788,1789,1794,1795,1803,1804,1805,1816,1817,1845,1846,1847,1848,1849,1850,1866,1867,\n",
    "                        1868,1916,1917,1918,1944,1945,1946]) "
   ]
  },
  {
   "cell_type": "code",
   "execution_count": 33,
   "metadata": {},
   "outputs": [
    {
     "name": "stdout",
     "output_type": "stream",
     "text": [
      "[[4]]\n",
      "[[3]]\n",
      "[[1]]\n",
      "[[3]]\n",
      "[[8]]\n",
      "[[4]]\n",
      "[[4]]\n",
      "[[3]]\n",
      "[[33]]\n",
      "[[5]]\n"
     ]
    }
   ],
   "source": [
    "PDSIavg = {};\n",
    "for i in range(1,11):\n",
    "    PDSI = owda*np.tile(np.expand_dims(mask[str(i)],axis=2),[1,1,2013])\n",
    "    for y in range(0,88):\n",
    "        PDSI[:,y,:] = PDSI[:,y,:]*np.cos(np.radians(owda.lat[y]))#area-weight\n",
    "    PDSIavg[str(i)] = np.nanmean(np.nanmean(PDSI,axis=0),axis=0)\n",
    "    \n",
    "    print(np.array(np.where(sorted(PDSIavg[str(i)][years[str(i)]],reverse=True)==PDSIavg[str(i)][1316]))+1)#rank\n"
   ]
  },
  {
   "cell_type": "code",
   "execution_count": 14,
   "metadata": {},
   "outputs": [
    {
     "name": "stdout",
     "output_type": "stream",
     "text": [
      "0.2244549940970231\n",
      "0.017240368789682714\n",
      "-0.35652987441053563\n",
      "-0.23525366594800093\n",
      "0.18410018992671767\n",
      "-0.2853772308845427\n",
      "-0.39257383061506995\n",
      "-0.2938894921406021\n",
      "0.05651930392156564\n",
      "-0.1294819015828576\n"
     ]
    }
   ],
   "source": [
    "for i in range(1,11):\n",
    "    print(np.mean(PDSIavg[str(i)][years[str(i)]]))"
   ]
  },
  {
   "cell_type": "code",
   "execution_count": null,
   "metadata": {},
   "outputs": [],
   "source": []
  },
  {
   "cell_type": "markdown",
   "metadata": {},
   "source": [
    "## Rank 1314 to years preceding famine"
   ]
  },
  {
   "cell_type": "code",
   "execution_count": null,
   "metadata": {},
   "outputs": [],
   "source": [
    "#1300 - 1710\n",
    "years_1314 = {}\n",
    "\n",
    "#UK\n",
    "years_1314['1'] = np.array([1314,1348,1436,1554,1584,1593,1621,1697])\n",
    "\n",
    "#France\n",
    "years_1314['2'] = np.array([1314,1346,1437,1572,1575,1584,1592,1597,1638,1652,1660,1675,1692,1708])\n",
    "\n",
    "#Germany\n",
    "years_1314['3'] = np.array([1314,1436,1515,1529,1568,1593,1619,1624,1634,1650,1690,1697,1708]) \n",
    "\n",
    "#Switzerland \n",
    "years_1314['4'] = np.array([1314,1436,1515,1529,1568,1593,1619,1624,1634,1650,1690,1697,1708]) \n",
    "\n",
    "#Austria\n",
    "years_1314['5'] = np.array([1314,1436,1515,1529,1568,1593,1619,1624,1634,1650,1690,1697,1708]) \n",
    "\n",
    "#Belgium\n",
    "years_1314['6'] = np.array([1314,1436,1481,1490,1520,1555,1564,1571,1584,1624,1647,1660,1673,1691,1697,1707])\n",
    "\n",
    "#Netherlands\n",
    "years_1314['7'] = np.array([1314,1436,1481,1490,1520,1555,1564,1571,1584,1624,1647,1660,1673,1691,1697,1707])\n",
    "\n",
    "#Luxembourg\n",
    "years_1314['8'] = np.array([1314,1436,1481,1490,1520,1555,1564,1571,1584,1624,1647,1660,1673,1691,1697,1707])\n",
    "\n",
    "#Italy\n",
    "years_1314['9'] = np.array([1301,1327,1338,1345,1373,1409,1501,1526,1538,1568,1585,1589,1599,1617,1627,1647,\n",
    "                            1677,1692,1707])\n",
    "#Europe\n",
    "years_1314['10'] = np.array([1301,1314,1327,1338,1345,1373,1436,1520,1529,1555,1568,1585,1589,1599,1619,1624,\n",
    "                             1646,1658,1674,1677,1692,1707])\n",
    "\n"
   ]
  },
  {
   "cell_type": "code",
   "execution_count": 12,
   "metadata": {},
   "outputs": [],
   "source": [
    "#1300 - 2012\n",
    "years_1314 = {}\n",
    "\n",
    "#UK\n",
    "years_1314['1'] = np.array([1314,1348,1436,1554,1584,1593,1621,1697,1726,1740])\n",
    "\n",
    "#France\n",
    "years_1314['2'] = np.array([1314,1346,1437,1572,1575,1584,1592,1597,1638,1652,1660,1675,1692,1708,1718,1746,1787])\n",
    "\n",
    "#Germany\n",
    "years_1314['3'] = np.array([1314,1436,1515,1529,1568,1593,1619,1624,1634,1650,1690,1697,1708,1723,1738,1754,1769,\n",
    "                           1786,1792,1804,1814,1844,1915,1944]) \n",
    "\n",
    "#Switzerland \n",
    "years_1314['4'] = np.array([1314,1436,1515,1529,1568,1593,1619,1624,1634,1650,1690,1697,1708,1723,1738,1754,1769,\n",
    "                           1786,1792,1804,1814,1844,1915,1944]) \n",
    "\n",
    "#Austria\n",
    "years_1314['5'] = np.array([1314,1436,1515,1529,1568,1593,1619,1624,1634,1650,1690,1697,1708,1723,1738,1754,1769,\n",
    "                           1786,1792,1804,1814,1844,1915,1944]) \n",
    "\n",
    "#Belgium\n",
    "years_1314['6'] = np.array([1314,1436,1481,1490,1520,1555,1564,1571,1584,1624,1647,1660,1673,1691,1697,1707,\n",
    "                           1739,1793,1815,1844,1915,1943])\n",
    "\n",
    "#Netherlands\n",
    "years_1314['7'] = np.array([1314,1436,1481,1490,1520,1555,1564,1571,1584,1624,1647,1660,1673,1691,1697,1707,\n",
    "                           1739,1793,1815,1844,1915,1943])\n",
    "\n",
    "#Luxembourg\n",
    "years_1314['8'] = np.array([1314,1436,1481,1490,1520,1555,1564,1571,1584,1624,1647,1660,1673,1691,1697,1707,\n",
    "                           1739,1793,1815,1844,1915,1943])\n",
    "\n",
    "#Italy\n",
    "years_1314['9'] = np.array([1301,1327,1338,1345,1373,1409,1501,1526,1538,1568,1585,1589,1599,1617,1627,1647,\n",
    "                            1677,1692,1707,1742,1763,1816])\n",
    "\n",
    "#Europe\n",
    "years_1314['10'] = np.array([1301,1314,1327,1338,1345,1373,1436,1520,1529,1555,1568,1585,1589,1599,1619,1624,\n",
    "                             1646,1658,1674,1677,1692,1707,1718,1726,1739,1762,1770,1786,1793,1802,1815,1844,\n",
    "                            1865,1915,1943])\n",
    "\n"
   ]
  },
  {
   "cell_type": "code",
   "execution_count": null,
   "metadata": {},
   "outputs": [],
   "source": [
    "PDSIavg = {};\n",
    "for i in range(1,11):\n",
    "    PDSI = owda*np.tile(np.expand_dims(mask[str(i)],axis=2),[1,1,2013])\n",
    "    for y in range(0,88):\n",
    "        PDSI[:,y,:] = PDSI[:,y,:]*np.cos(np.radians(owda.lat[y]))#area-weight\n",
    "    PDSIavg[str(i)] = np.nanmean(np.nanmean(PDSI,axis=0),axis=0)\n",
    "    \n",
    "    print(np.array(np.where(sorted(PDSIavg[str(i)][years[str(i)]],reverse=True)==PDSIavg[str(i)][1314]))+1)#rank\n"
   ]
  },
  {
   "cell_type": "code",
   "execution_count": null,
   "metadata": {},
   "outputs": [],
   "source": []
  }
 ],
 "metadata": {
  "kernelspec": {
   "display_name": "Python 3",
   "language": "python",
   "name": "python3"
  },
  "language_info": {
   "codemirror_mode": {
    "name": "ipython",
    "version": 3
   },
   "file_extension": ".py",
   "mimetype": "text/x-python",
   "name": "python",
   "nbconvert_exporter": "python",
   "pygments_lexer": "ipython3",
   "version": "3.7.4"
  }
 },
 "nbformat": 4,
 "nbformat_minor": 2
}
