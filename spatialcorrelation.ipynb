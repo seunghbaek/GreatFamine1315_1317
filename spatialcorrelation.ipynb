{
 "cells": [
  {
   "cell_type": "code",
   "execution_count": 1,
   "metadata": {},
   "outputs": [
    {
     "data": {
      "text/plain": [
       "'/System/Library/Fonts/LucidaGrande.ttc'"
      ]
     },
     "execution_count": 1,
     "metadata": {},
     "output_type": "execute_result"
    }
   ],
   "source": [
    "from netCDF4 import Dataset as NetCDFFile\n",
    "import numpy as np\n",
    "from numpy import matlib\n",
    "import matplotlib.pyplot as plt\n",
    "%matplotlib inline\n",
    "from matplotlib import colors\n",
    "import xarray as xr\n",
    "from numpy import meshgrid\n",
    "from matplotlib.backends.backend_pdf import PdfPages\n",
    "from matplotlib.font_manager import findfont, FontProperties\n",
    "from mpl_toolkits.basemap import Basemap\n",
    "import pandas as pd\n",
    "import warnings\n",
    "import pickle\n",
    "warnings.filterwarnings(\"ignore\")\n",
    "font = findfont(FontProperties(family=['sans-serif']))\n",
    "font"
   ]
  },
  {
   "cell_type": "code",
   "execution_count": 14,
   "metadata": {},
   "outputs": [],
   "source": [
    "EOF1 = open('EOF1.pkl','rb')\n",
    "EOF1 = pickle.load(EOF1)\n",
    "wet = open('wet.pkl','rb')\n",
    "wet = pickle.load(wet)\n",
    "dry = open('dry.pkl','rb')\n",
    "dry = pickle.load(dry)\n",
    "\n",
    "GF1314 = open('GF_1314.pkl','rb')\n",
    "GF1314 = pickle.load(GF1314)\n",
    "\n",
    "GF1315 = open('GF_1315.pkl','rb')\n",
    "GF1315 = pickle.load(GF1315)\n",
    "\n",
    "GF1316 = open('GF_1316.pkl','rb')\n",
    "GF1316 = pickle.load(GF1316)\n"
   ]
  },
  {
   "cell_type": "code",
   "execution_count": 8,
   "metadata": {},
   "outputs": [
    {
     "data": {
      "text/plain": [
       "(114, 88)"
      ]
     },
     "execution_count": 8,
     "metadata": {},
     "output_type": "execute_result"
    }
   ],
   "source": [
    "np.shape(EOF1)\n"
   ]
  },
  {
   "cell_type": "code",
   "execution_count": 10,
   "metadata": {},
   "outputs": [],
   "source": [
    "import numpy.ma as ma\n",
    "#spatial correlation\n",
    "a = np.reshape(EOF1,114*88)\n",
    "b = np.reshape(wet,114*88)\n",
    "c = np.reshape(dry,114*88)\n"
   ]
  },
  {
   "cell_type": "code",
   "execution_count": 12,
   "metadata": {},
   "outputs": [
    {
     "name": "stdout",
     "output_type": "stream",
     "text": [
      "[[1.0 0.8502618473729345]\n",
      " [0.8502618473729345 1.0]]\n"
     ]
    }
   ],
   "source": [
    "print(ma.corrcoef(ma.masked_invalid(a),ma.masked_invalid(b)))"
   ]
  },
  {
   "cell_type": "code",
   "execution_count": 13,
   "metadata": {},
   "outputs": [
    {
     "name": "stdout",
     "output_type": "stream",
     "text": [
      "[[1.0 -0.8778325322052863]\n",
      " [-0.8778325322052863 1.0]]\n"
     ]
    }
   ],
   "source": [
    "print(ma.corrcoef(ma.masked_invalid(a),ma.masked_invalid(c)))"
   ]
  },
  {
   "cell_type": "code",
   "execution_count": 15,
   "metadata": {},
   "outputs": [],
   "source": [
    "import numpy.ma as ma\n",
    "#spatial correlation\n",
    "a = np.reshape(EOF1,114*88)\n",
    "b = np.reshape(GF1314,114*88)\n",
    "c = np.reshape(GF1315,114*88)\n",
    "d = np.reshape(GF1316,114*88)\n"
   ]
  },
  {
   "cell_type": "code",
   "execution_count": 16,
   "metadata": {},
   "outputs": [
    {
     "name": "stdout",
     "output_type": "stream",
     "text": [
      "[[1.0 0.2877838530440774]\n",
      " [0.2877838530440774 1.0]]\n"
     ]
    }
   ],
   "source": [
    "print(ma.corrcoef(ma.masked_invalid(a),ma.masked_invalid(b)))"
   ]
  },
  {
   "cell_type": "code",
   "execution_count": 17,
   "metadata": {},
   "outputs": [
    {
     "name": "stdout",
     "output_type": "stream",
     "text": [
      "[[1.0 0.7110571913327326]\n",
      " [0.7110571913327326 1.0]]\n"
     ]
    }
   ],
   "source": [
    "print(ma.corrcoef(ma.masked_invalid(a),ma.masked_invalid(c)))"
   ]
  },
  {
   "cell_type": "code",
   "execution_count": 18,
   "metadata": {},
   "outputs": [
    {
     "name": "stdout",
     "output_type": "stream",
     "text": [
      "[[1.0 0.6755020463673037]\n",
      " [0.6755020463673037 1.0]]\n"
     ]
    }
   ],
   "source": [
    "print(ma.corrcoef(ma.masked_invalid(a),ma.masked_invalid(d)))"
   ]
  },
  {
   "cell_type": "code",
   "execution_count": null,
   "metadata": {},
   "outputs": [],
   "source": []
  }
 ],
 "metadata": {
  "kernelspec": {
   "display_name": "Python 3",
   "language": "python",
   "name": "python3"
  },
  "language_info": {
   "codemirror_mode": {
    "name": "ipython",
    "version": 3
   },
   "file_extension": ".py",
   "mimetype": "text/x-python",
   "name": "python",
   "nbconvert_exporter": "python",
   "pygments_lexer": "ipython3",
   "version": "3.7.4"
  }
 },
 "nbformat": 4,
 "nbformat_minor": 2
}
